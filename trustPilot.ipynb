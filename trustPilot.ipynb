{
 "cells": [
  {
   "cell_type": "code",
   "execution_count": 17,
   "metadata": {},
   "outputs": [],
   "source": [
    "from selenium import webdriver\n",
    "from selenium.webdriver.common.by import By\n",
    "from selenium.webdriver.support.ui import WebDriverWait\n",
    "from selenium.webdriver.support import expected_conditions as EC\n",
    "from selenium.webdriver.firefox.options import Options as FirefoxOptions\n",
    "\n",
    "import time\n",
    "import queue\n",
    "import pickle"
   ]
  },
  {
   "cell_type": "code",
   "execution_count": 27,
   "metadata": {},
   "outputs": [],
   "source": [
    "driver = webdriver.Firefox(executable_path='geckodriver.exe')\n",
    "# keyword = 'www.oneeducation.org.uk'\n",
    "keyword = 'coursegate.co.uk'\n",
    "driver.get(\"https://www.trustpilot.com/review/\"+keyword)\n",
    "wait = WebDriverWait(driver, 10)\n",
    "driver.maximize_window()\n",
    "time.sleep(5)"
   ]
  },
  {
   "cell_type": "code",
   "execution_count": 29,
   "metadata": {},
   "outputs": [
    {
     "name": "stdout",
     "output_type": "stream",
     "text": [
      "{'Name': 'Gani Voga', 'Title': 'Course gate is completely garbage I…', 'Date': '2 days ago', 'review': 'Course gate is completely garbage I took the truck maintenance course . I read all the modules. 99.9999% nothing to do with truck maintenance.theres no way that any one could do any type of maintenance work on a truck after studying this course it’s completely garbage.if any of there other course are like the truck maintenance course stay well clear from them.\\nThey don’t even deserve 1 star it’s minus 1000 Star*100', 'Rating': '1'}\n",
      "{'Name': 'Niceday', 'Title': 'These have no idea.', 'Date': 'Jan 22, 2020', 'review': \"These have no idea.\\n\\nI completed 1 course with a cert without any problems, then i paid for and enrolled for the 'Diploma in Office Admin and Receptionist' course. on my first attempt at the mock exam it marked answers as wrong yet the correct answer was the one i chose. after 2 emails they say they corrected this and would give me free unlimited mock exams, but then on 1 module then video has displayed 'Video unavailable\\nThis video contains content from Beggars, who has blocked it on copyright grounds' for the last 12 months reading the comments on then module.\", 'Rating': '1'}\n",
      "{'Name': 'Scarlett CR', 'Title': 'Frustrating glitches and hidden costs!', 'Date': 'Dec 6, 2019', 'review': \"I'm currently taking a level 5 MVQ course which has a mutiple choice quiz after every module. Despite selecting an answer for every question, my results kept coming back saying I had not given an answer and therefore I failed. I emailed about it and was eventually awarded marks but the problem keeps persisting for every quiz attempted. The help desk were polite and tried their best to be helpful but the issue hasn't been properly resolved. There are also lots of hidden costs (e.g. £3.99 to retake a quiz, £108.00 for the certificate, etc.) making me question if this was worth the money.\", 'Rating': '2'}\n",
      "{'Name': 'Georgia', 'Title': 'absolute rip off', 'Date': 'Dec 1, 2019', 'review': 'absolute rip off. Made me pay £3.99 to retake an exam when I used the correct information and answers word for word from the course material and still failed. will not be using again.', 'Rating': '1'}\n",
      "{'Name': 'Jordelle', 'Title': 'What they dont tell you when you sign…', 'Date': 'Oct 28, 2019', 'review': 'What they dont tell you when you sign up is the cost of the certificate when you pass the course.\\n\\nNow the course I completed with 91 out of 100 (would have been higher but changed some of the answers due to using the scroll on the mouse!) it then gave me the option of what level certificate I wanted to purchase. It was sold to me as a Level 5 so i assume that i have passed at Level 5.\\n\\nThe cost of the certificate is £108. If I choose to have my qualification at Level 1 then it will cost me £38 How is this even a thing?!?!\\n\\nIf I get the certificate as just a certificate and not endorsed then it will cost £2.\\n\\nThe original cost of the course is nearly £800 unless you find it on Groupon or Reed.', 'Rating': '1'}\n",
      "{'Name': 'Amanda', 'Title': 'Good for the price', 'Date': 'Aug 20, 2019', 'review': 'I found this company through reed.co.uk\\nI did a Sports First Aid course and the certificate was included in the price. The course was mainly basic first aid with some sport related injuries. On completion I had to phone Course gate as they were asking for payment for the certificate. After explaining the certificate was included in the price, they sent me a pdf of my certificate. I now get a lot of emails with offers on courses, claiming to save me money but if I go back to reed.co.uk I can see the courses for a much lower price.', 'Rating': '3'}\n",
      "{'Name': 'Beatrice', 'Title': 'I am very satisfied with the lessons…', 'Date': 'Jul 19, 2019', 'review': 'I am very satisfied with the lessons ,they are complete and enriching ,and the service is fast ,thank you', 'Rating': '5'}\n",
      "{'Name': 'Aaron Hallett', 'Title': 'Good Courses and passed them both', 'Date': 'Jul 10, 2019', 'review': 'Good Courses and passed them both. Would use again.', 'Rating': '4'}\n",
      "{'Name': 'Mya B', 'Title': 'Coursegate', 'Date': 'Updated May 21, 2019', 'review': 'I found coursegate courses fine if you want a basic knowledge of a subject. There is a live chat operator to hand while you do the course which is handy for enquires. The courses I have undertaken are easy to follow and the mock exam is a helpful addition. The certificate I obtained after the exam looks very profesional and mine arrived promptly.', 'Rating': '3'}\n",
      "{'Name': 'V. Ribeiro', 'Title': 'Horrible experience', 'Date': 'May 12, 2019', 'review': 'Super basic course, information not accurate.\\nTest has ridiculous questions and some accept wrong answers as correct. Then you fail the exam and they ask you more money to repeat it. Consider lost money if you apply for it. Horrible experience.', 'Rating': '1'}\n",
      "{'Name': 'Angela', 'Title': 'Scam !', 'Date': 'Mar 27, 2019', 'review': 'Scam !! Do not use! I applied for the animal care level 3 course and first of all who ever put theses questions together and the course work must be off their rocker !! Questions like “what do u use to wash a truck “ !!! What does this have to do with live stock ! They will take your money and guaranteed fail you and ask for more money to re take the test ! All. Scam', 'Rating': '1'}\n",
      "{'Name': 'David', 'Title': 'Avoiding Coursegate', 'Date': 'Feb 21, 2019', 'review': 'In the process of looking for web design course and googled Coursegate reviews and this is what i found :\\nhttps ://coursegate.co.uk/ cv-review-form/trustpilot-topofpage-4-1/\\n(remove the spaces in the link to view)\\n\\nAccording to them they have a excellent review but i looked them up and they have 0 reviews here (not over 600).\\nWill avoid spending £400+ with this company and want to bring this to the attention of Trustpilot users.', 'Rating': '1'}\n"
     ]
    }
   ],
   "source": [
    "data = list()\n",
    "while True:\n",
    "    names = driver.find_elements_by_class_name(\"consumer-information__name\")\n",
    "    titles = driver.find_elements_by_class_name(\"link.link--large.link--dark\")\n",
    "    dates = driver.find_elements_by_class_name(\"review-date--tooltip-target\")\n",
    "    reviews = driver.find_elements_by_class_name(\"review-content__text\")\n",
    "    ratings = driver.find_elements_by_class_name(\"star-rating.star-rating--medium\")\n",
    "    for name, title, date, review, rating in zip(names, titles, dates, reviews, ratings):\n",
    "        tmpData = {\n",
    "\n",
    "                            \"Name\": name.text,\n",
    "                            \"Title\": title.text,\n",
    "                            \"Date\": date.text,\n",
    "                            \"review\": review.text,\n",
    "                            \"Rating\": rating.find_element_by_tag_name(\"img\").get_attribute(\"alt\").split(\" \")[0]\n",
    "\n",
    "                        }\n",
    "        print(tmpData)\n",
    "        data.append(tmpData.copy())\n",
    "\n",
    "    try:\n",
    "        driver.find_element_by_class_name(\"cookie-bar__close-button\").click()\n",
    "    except:\n",
    "        pass\n",
    "    try:\n",
    "        driver.find_element_by_class_name(\"button.button--primary.next-page\").click()\n",
    "        time.sleep(2)\n",
    "    except:\n",
    "        break\n"
   ]
  },
  {
   "cell_type": "code",
   "execution_count": 30,
   "metadata": {},
   "outputs": [],
   "source": [
    "import csv\n",
    "csv_file = \"trustPilotCourseGate.csv\"\n",
    "csv_columns = list(data[0].keys())\n",
    "try:\n",
    "    with open(csv_file, 'w', newline='', encoding=\"utf-8\") as csvfile:\n",
    "        writer = csv.DictWriter(csvfile, fieldnames=csv_columns)\n",
    "        writer.writeheader()\n",
    "        for dataT in data:\n",
    "            writer.writerow(dataT)\n",
    "except IOError:\n",
    "    print(\"I/O error\")"
   ]
  }
 ],
 "metadata": {
  "kernelspec": {
   "display_name": "Python 3",
   "language": "python",
   "name": "python3"
  },
  "language_info": {
   "codemirror_mode": {
    "name": "ipython",
    "version": 3
   },
   "file_extension": ".py",
   "mimetype": "text/x-python",
   "name": "python",
   "nbconvert_exporter": "python",
   "pygments_lexer": "ipython3",
   "version": "3.7.4"
  }
 },
 "nbformat": 4,
 "nbformat_minor": 4
}
