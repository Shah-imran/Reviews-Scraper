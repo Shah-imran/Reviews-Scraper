{
 "cells": [
  {
   "cell_type": "code",
   "execution_count": 3,
   "metadata": {},
   "outputs": [],
   "source": [
    "from selenium import webdriver\n",
    "from selenium.webdriver.common.by import By\n",
    "from selenium.webdriver.support.ui import WebDriverWait\n",
    "from selenium.webdriver.support import expected_conditions as EC\n",
    "from selenium.webdriver.firefox.options import Options as FirefoxOptions\n",
    "\n",
    "import time\n",
    "import queue\n",
    "import pickle"
   ]
  },
  {
   "cell_type": "code",
   "execution_count": 4,
   "metadata": {},
   "outputs": [],
   "source": [
    "driver = webdriver.Firefox(executable_path='geckodriver.exe')\n",
    "# keyword = 'www.oneeducation.org.uk'\n",
    "keyword = 'coursegate.co.uk'\n",
    "driver.get(\"https://www.reviews.io/company-reviews/store/one-education?filters%5Brating%5D%5B0%5D=1\")\n",
    "wait = WebDriverWait(driver, 10)\n",
    "driver.maximize_window()\n",
    "time.sleep(5)"
   ]
  },
  {
   "cell_type": "code",
   "execution_count": 8,
   "metadata": {},
   "outputs": [
    {
     "name": "stdout",
     "output_type": "stream",
     "text": [
      "{'Name': 'Juxon House Team', 'review': '“\\nThey say they are based in Juxon House, visited the address and they have never heard of them. 100% Scam\\n”', 'Rating': 1, 'Provider': 'One Education'}\n",
      "{'Name': 'Claire Coffey', 'review': '“\\nComplete scam! Completed baking and cake decoration course in 20 mins. The Information in the modules was same as I would have gotten if I had simply Googled baking. Even states to follow tutorials and demos that can be found online. I would be appalled if I had paid the full €425. Not worth that money.\\n”', 'Rating': 1, 'Provider': 'One Education'}\n",
      "{'Name': 'Anonymous', 'review': \"“\\nFor the full price this course was appalling!\\n- The link to the Common Inspection Framework was out of date\\n-Module 2 referred to statements rather than EHCPs\\n-Reviews from other students who completed the course referred to food safety course rather than this one\\n-Incorrect terminology used for UK schools\\n-Badly worded quiz questions\\nI won't be purchasing another course from One Education.\\n”\", 'Rating': 1, 'Provider': 'One Education'}\n",
      "{'Name': 'Rhea', 'review': '“\\nI purchased about lash extensions & brow tinting courses. The course are in plain text only and theres no video to show the demonstration how its done. I am very disappointed as english is not my first language and find it hard to understand. I want a refund please\\n”', 'Rating': 1, 'Provider': 'One Education'}\n",
      "{'Name': 'Anonymous', 'review': '“\\nPurchased this today and did not realise you had to have SAGE50 installed as it is not included with the course. Yes, I now know that it does say this but I missed it on the REED website. There is Testdrive which I am told will allow you to complete the practice exercises but I am finding it impossible to enter anything.\\nI will definitely be seeking a refund\\n”', 'Rating': 1, 'Provider': 'One Education'}\n",
      "{'Name': 'Anonymous', 'review': '“\\nBought British sign language level 1 and 2 and tried to redeem it twice, wrote emails to them 2 weeks ago but still havent received any reply.\\n”', 'Rating': 1, 'Provider': 'One Education'}\n",
      "{'Name': 'Anonymous', 'review': '“\\nI took AET (level 3) with one education. This is my personal experience:\\nPros:\\nThe course is online.\\nContras:\\nVery-very often the stuff doesn’t know what they do, each time providing a different information (probably different people there have different standards);\\ncustomer service and help exists but it is nothing to do with ‘service’ or ‘help’;\\nIt is impossible to find solution if problem rises;\\nCompany is not able to assist properly but very good at standard ‘useless’ answers and ‘unhelpful’ help;\\nThey do not inform client about any delays or changes;\\nTimeframes for results and etc are just words and nothing more.\\nBeing a highly organised person, it was very difficult for me to be a customer of this company. And loosing weeks and weeks and then more weeks and weeks etc is not good personally for me. I wish I would attend on off-line course and never had such demotivating and upsetting problems and it would be more clear, more structural, less time and energy consuming as well as significantly less stressful. But, I’ve leant the lesson.\\n”', 'Rating': 1, 'Provider': 'One Education'}\n",
      "{'Name': 'Anonymous', 'review': '“\\nI Took Lv 3 AET with this company I just wish I chose a different provider nearly a year of being messed around they rarely answer emails and when they do they are not helpful or professional they promised me my certificate would come \"this week\" for about three months ........ I honestly will never use them again and i would suggest anyone reading this to think twice before purchasing any course from them.\\n”', 'Rating': 1, 'Provider': 'One Education'}\n",
      "{'Name': 'Ashley Tooley', 'review': \"“\\nA very strange experience, purchased the freelance barbering course and passed without touching a pair of scissors. There's not a single tutorial video or section about cutting mens hair or shaving techniques. There is no requirement for you to demonstrate that you can actually cut hair and the final exam questions are ridiculous.\\nI am so glad that I paid only £16 and used PayPal because this course is a farce and I will be looking to retrieve my money back!\\n”\", 'Rating': 1, 'Provider': 'One Education'}\n",
      "{'Name': 'Bonnie Ortega', 'review': \"“\\nCourse never received. My first enquiry was answered, apparently I had given wrong email. My email was not replied even though I have sent emails several times nor course sent to 'correct' email as requested. Very poor customer service. .\\n”\", 'Rating': 1, 'Provider': 'One Education'}\n",
      "{'Name': 'Fran', 'review': \"“\\nThe Medical Secretary Diploma Course is not interactive at all as each module is all written into one page paragraphs, there are no audios nor any interactive video content which makes it kind of dull and less remarkable. This course was also the complete duplicate of another provider i had purchased it from which was very disappointing. I'm afraid it doesn't reflect the full requested price, I luckily purchased it on sale on Black Friday. I wouldn't say it gives you a full exhaustive knowledge in hand as jobs like these requests the full AMSPAR diploma and valid experience which takes 3 years, this course can take an up to an hour or 2 to complete in your spare time.\\n”\", 'Rating': 2, 'Provider': 'One Education'}\n",
      "{'Name': 'Eric2', 'review': \"“\\nThe courses are quite overpriced considering that most are taken from books you can find free online. The student card is useless as you can only use it in some restaurants/bars and few shops but not for a discount on London's transportation (as wrongly advertise on this website) so I recommend not to waste money on the card.\\n”\", 'Rating': 2, 'Provider': 'One Education'}\n",
      "{'Name': 'Christopher Ager', 'review': '“\\nI want to do a course but trying to get on it with pop ups keep coming up stopping your progress is a pain in the a***! Sort it out please.\\n”', 'Rating': 2, 'Provider': 'One Education'}\n",
      "{'Name': 'Robert Grenier', 'review': '“\\nI have tried 3 courses with this company. British sign language, estate agency and autism awareness. The sign language course is ok so far but the estate agent course was more focused on the American market and the autism awareness course is very poor. There are wrong answers in the questions, the text doesn’t always match the slides and some of the sentences don’t make sense. It is clear it hasn’t been proof checked.\\n”', 'Rating': 2, 'Provider': 'One Education'}\n",
      "{'Name': 'Anonymous', 'review': '“\\nDone the British cleaning course. It confirmed what I already knew.only problem I have with it is all the videos are from America. They do things differently to us. Should change the name or use British videos. All in all o k.\\n”', 'Rating': 3, 'Provider': 'One Education'}\n",
      "{'Name': 'Anonymous', 'review': '“\\nInteresting module\\n”', 'Rating': 3, 'Provider': 'One Education'}\n",
      "{'Name': 'Charles', 'review': '“\\nEverything is fine at the moment cause still in progress.\\n”', 'Rating': 3, 'Provider': 'One Education'}\n",
      "{'Name': 'Anonymous', 'review': \"“\\nThe price was good because I bought it when it was on offer. I felt the course was aimed at Americans though as prices were quoted in dollars. I thought the information on the UK was not informative enough as there are so many attractions and places to visit in the UK. There is Wales, Scotland and Ireland to write about but the course focussed on hotels. Some of the grammar throughout the course was poor. I enjoyed reading about the different countries however but don't feel equipped to work in the travel industry.\\n”\", 'Rating': 3, 'Provider': 'One Education'}\n",
      "{'Name': 'Anonymous', 'review': '“\\nBecause education give me the privilege to read and write and that made me really happy\\n”', 'Rating': 3, 'Provider': 'One Education'}\n",
      "{'Name': 'Tina', 'review': '“\\nNot able to print out modules unless you want half a page of rubbish as well, so very disappointing that when printing out to read thoroughly I wasted paper.\\nOverall good and interesting course in Employment Law\\n”', 'Rating': 3, 'Provider': 'One Education'}\n",
      "{'Name': 'John Finch', 'review': '“\\nInformative course!!! I’m suggesting to take the course who are interested in procurement management.\\n”', 'Rating': 3, 'Provider': 'One Education'}\n",
      "{'Name': 'Troy Wiseman', 'review': '“\\nTook this course and learned quickly about gestalt therapy\\n”', 'Rating': 3, 'Provider': 'One Education'}\n",
      "{'Name': 'Gilbert Nicholson', 'review': '“\\ninevitably a discrete detective course ;)\\n”', 'Rating': 3, 'Provider': 'One Education'}\n",
      "{'Name': 'Steven Zuber', 'review': '“\\nI had a little difficulty in purchasing the course in the drop-down screen but it was fine or else I would have given it a higher rating.\\n”', 'Rating': 3, 'Provider': 'One Education'}\n"
     ]
    }
   ],
   "source": [
    "datas = list()\n",
    "for rating in range(1,4):\n",
    "    # keyword = 'www.oneeducation.org.uk'\n",
    "#     keyword = 'coursegate.co.uk'\n",
    "    driver.get(\"https://www.reviews.io/company-reviews/store/one-education?filters%5Brating%5D%5B0%5D=\"+str(rating))\n",
    "    driver.maximize_window()\n",
    "    time.sleep(5)\n",
    "    names = driver.find_elements_by_class_name(\"Review__author\")\n",
    "    reviews = driver.find_elements_by_class_name(\"Review__body\")\n",
    "    ratings = rating\n",
    "    for name, review in zip(names, reviews):\n",
    "        tmpData = {\n",
    "                    \"Name\": name.text,\n",
    "                    \"review\": review.text,\n",
    "                    \"Rating\": rating,\n",
    "                    \"Provider\": \"One Education\"\n",
    "            \n",
    "                        }\n",
    "        print(tmpData)\n",
    "        datas.append(tmpData.copy())\n",
    "        "
   ]
  },
  {
   "cell_type": "code",
   "execution_count": 10,
   "metadata": {},
   "outputs": [],
   "source": [
    "import csv\n",
    "csv_file = \"reviewioOneEducation.csv\"\n",
    "csv_columns = list(datas[0].keys())\n",
    "try:\n",
    "    with open(csv_file, 'w', newline='', encoding=\"utf-8\") as csvfile:\n",
    "        writer = csv.DictWriter(csvfile, fieldnames=csv_columns)\n",
    "        writer.writeheader()\n",
    "        for data in datas:\n",
    "            writer.writerow(data)\n",
    "except IOError:\n",
    "    print(\"I/O error\")"
   ]
  }
 ],
 "metadata": {
  "kernelspec": {
   "display_name": "Python 3",
   "language": "python",
   "name": "python3"
  },
  "language_info": {
   "codemirror_mode": {
    "name": "ipython",
    "version": 3
   },
   "file_extension": ".py",
   "mimetype": "text/x-python",
   "name": "python",
   "nbconvert_exporter": "python",
   "pygments_lexer": "ipython3",
   "version": "3.7.4"
  }
 },
 "nbformat": 4,
 "nbformat_minor": 4
}
